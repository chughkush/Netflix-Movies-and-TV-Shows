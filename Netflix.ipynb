{
 "metadata": {
  "language_info": {
   "codemirror_mode": {
    "name": "ipython",
    "version": 3
   },
   "file_extension": ".py",
   "mimetype": "text/x-python",
   "name": "python",
   "nbconvert_exporter": "python",
   "pygments_lexer": "ipython3",
   "version": "3.8.6-final"
  },
  "orig_nbformat": 2,
  "kernelspec": {
   "name": "python3",
   "display_name": "Python 3.8.6 64-bit",
   "metadata": {
    "interpreter": {
     "hash": "e73231cd1d21d1983b44d11bde0c6614a6fabbe620fb5d4a76a6f2ce1413d4e5"
    }
   }
  }
 },
 "nbformat": 4,
 "nbformat_minor": 2,
 "cells": [
  {
   "source": [
    "## Data Analysis of Netflix Dataset using Tableau "
   ],
   "cell_type": "markdown",
   "metadata": {}
  },
  {
   "source": [
    "Netflix is an American over-the-top content platform and production company. It was founded in 1997. Netflix is available worldwide except in: Mainland China, Syria, North Korea and Crimea. \n",
    "\n",
    "Initially, Netflix business model included DVD Sales and rental by mail. In 2007, Netflix expanded its business with the introduction of streaming media, while retaining the DVD and Blu-ray rental business.\n",
    "\n",
    "Netflix entered the content-production industry in 2013 with its first series \"House of Cards\".\n",
    "\n",
    "Since 2012, Netflix took more of an active role as producer and distributor for Movies and TV Shows and also offer \"Netflix Original\" content through its vast online library. \n",
    "\n",
    "During the worldwide COVID-19 pandemic in 2020, Netflix acquired 16 million new subscribers"
   ],
   "cell_type": "markdown",
   "metadata": {}
  },
  {
   "source": [
    "### Amount of Content Added Per Year on Netflix"
   ],
   "cell_type": "markdown",
   "metadata": {}
  },
  {
   "source": [
    "<center><img src=\"https://i.imgur.com/tSMIPHt.png\"></center>\n"
   ],
   "cell_type": "markdown",
   "metadata": {}
  },
  {
   "source": [
    "There is a significance growth of content added over the years since the streaming service started with 2019 being the year where the most content was added. 2020 was a close second. It can be assumed that due to the COVID-19 pandemic, since a lot of movie and show releases were delayed and hence were not released in 2020, there was some decline in the amount of content added."
   ],
   "cell_type": "markdown",
   "metadata": {}
  },
  {
   "source": [
    "### Amount of Content by their Released Year on Netflix"
   ],
   "cell_type": "markdown",
   "metadata": {}
  },
  {
   "source": [
    "<center><img src=\"https://i.imgur.com/u8kyya6.png\"></center>\n"
   ],
   "cell_type": "markdown",
   "metadata": {}
  },
  {
   "source": [
    "The most amount of content on Netflix was rleased in the year 2018, followed by 2017 and then 2019."
   ],
   "cell_type": "markdown",
   "metadata": {}
  },
  {
   "source": [
    "### Movie/TV Distribution on Netflix"
   ],
   "cell_type": "markdown",
   "metadata": {}
  },
  {
   "source": [
    "<center><img src=\"https://i.imgur.com/CuHdTdf.png\"></center>\n"
   ],
   "cell_type": "markdown",
   "metadata": {}
  },
  {
   "source": [
    "69% of the content on Netflix are movies, whereas only 31% of their content are TV shows."
   ],
   "cell_type": "markdown",
   "metadata": {}
  },
  {
   "source": [
    "### Movie Rating Distribution"
   ],
   "cell_type": "markdown",
   "metadata": {}
  },
  {
   "source": [
    "<center><img src=\"https://i.imgur.com/1KYnLUD.png\"></center>\n"
   ],
   "cell_type": "markdown",
   "metadata": {}
  },
  {
   "source": [
    "### TV Rating Distribution"
   ],
   "cell_type": "markdown",
   "metadata": {}
  },
  {
   "source": [
    "<center><img src=\"https://i.imgur.com/izS9B1m.png\"></center>\n"
   ],
   "cell_type": "markdown",
   "metadata": {}
  },
  {
   "source": [
    "### Country Word Cloud"
   ],
   "cell_type": "markdown",
   "metadata": {}
  },
  {
   "source": [
    "<center><img src=\"https://i.imgur.com/WklAoBj.png\"></center>\n"
   ],
   "cell_type": "markdown",
   "metadata": {}
  },
  {
   "source": [
    "### Genre Word Cloud"
   ],
   "cell_type": "markdown",
   "metadata": {}
  },
  {
   "source": [
    "<center><img src=\"https://i.imgur.com/hpHnm04.png\"></center>"
   ],
   "cell_type": "markdown",
   "metadata": {}
  },
  {
   "cell_type": "code",
   "execution_count": null,
   "metadata": {},
   "outputs": [],
   "source": []
  }
 ]
}